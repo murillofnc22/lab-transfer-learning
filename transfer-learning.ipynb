import os
import random
import numpy as np
import keras
